{
 "cells": [
  {
   "cell_type": "code",
   "execution_count": 1,
   "id": "f96bc23f-3916-47b7-90c9-001e261e7919",
   "metadata": {},
   "outputs": [],
   "source": [
    "import csv\n",
    "\n",
    "# Open the output file from bcftools\n",
    "with open('snps_with_ps.txt', 'r') as infile, open('ps_coordinates.bed', 'w') as outfile:\n",
    "    reader = csv.reader(infile, delimiter='\\t')\n",
    "    ps_dict = {}\n",
    "\n",
    "    for row in reader:\n",
    "        chrom, pos, ref, alt, gt,ps = row\n",
    "\n",
    "        # Ensure the PS tag exists and is not missing\n",
    "        if ps == '.':\n",
    "            continue\n",
    "\n",
    "        pos = int(pos)\n",
    "        ps = int(ps)\n",
    "\n",
    "        # Group by PS tag\n",
    "        if (chrom, ps) not in ps_dict:\n",
    "            ps_dict[(chrom, ps)] = [pos, pos]  # Start and end initialized to the same position\n",
    "        else:\n",
    "            ps_dict[(chrom, ps)][1] = pos  # Update the end position as we encounter more SNPs with the same PS\n",
    "\n",
    "    # Write the BED output: chrom, start (PS), end (last SNP)\n",
    "    for (chrom, ps), (start_pos, end_pos) in ps_dict.items():\n",
    "        outfile.write(f\"{chrom}\\t{ps}\\t{end_pos}\\n\")"
   ]
  },
  {
   "cell_type": "code",
   "execution_count": null,
   "id": "dd685027-6b84-4b1d-b151-977b01b96433",
   "metadata": {},
   "outputs": [],
   "source": []
  }
 ],
 "metadata": {
  "kernelspec": {
   "display_name": "wjhlang",
   "language": "python",
   "name": "wjhlang"
  },
  "language_info": {
   "codemirror_mode": {
    "name": "ipython",
    "version": 3
   },
   "file_extension": ".py",
   "mimetype": "text/x-python",
   "name": "python",
   "nbconvert_exporter": "python",
   "pygments_lexer": "ipython3",
   "version": "3.10.13"
  }
 },
 "nbformat": 4,
 "nbformat_minor": 5
}
